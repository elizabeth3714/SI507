{
 "cells": [
  {
   "cell_type": "code",
   "execution_count": 3,
   "metadata": {},
   "outputs": [
    {
     "name": "stdout",
     "output_type": "stream",
     "text": [
      "Collecting homeharvest\n",
      "  Using cached homeharvest-0.3.19-py3-none-any.whl.metadata (5.6 kB)\n",
      "Requirement already satisfied: pandas<3.0.0,>=2.1.1 in c:\\users\\elizabeth\\documents\\si618\\si_618_wn_24_files\\.venv\\lib\\site-packages (from homeharvest) (2.1.4)\n",
      "Requirement already satisfied: requests<3.0.0,>=2.31.0 in c:\\users\\elizabeth\\documents\\si618\\si_618_wn_24_files\\.venv\\lib\\site-packages (from homeharvest) (2.31.0)\n",
      "Requirement already satisfied: numpy<2,>=1.26.0 in c:\\users\\elizabeth\\documents\\si618\\si_618_wn_24_files\\.venv\\lib\\site-packages (from pandas<3.0.0,>=2.1.1->homeharvest) (1.26.3)\n",
      "Requirement already satisfied: python-dateutil>=2.8.2 in c:\\users\\elizabeth\\documents\\si618\\si_618_wn_24_files\\.venv\\lib\\site-packages (from pandas<3.0.0,>=2.1.1->homeharvest) (2.8.2)\n",
      "Requirement already satisfied: pytz>=2020.1 in c:\\users\\elizabeth\\documents\\si618\\si_618_wn_24_files\\.venv\\lib\\site-packages (from pandas<3.0.0,>=2.1.1->homeharvest) (2023.3.post1)\n",
      "Requirement already satisfied: tzdata>=2022.1 in c:\\users\\elizabeth\\documents\\si618\\si_618_wn_24_files\\.venv\\lib\\site-packages (from pandas<3.0.0,>=2.1.1->homeharvest) (2023.4)\n",
      "Requirement already satisfied: charset-normalizer<4,>=2 in c:\\users\\elizabeth\\documents\\si618\\si_618_wn_24_files\\.venv\\lib\\site-packages (from requests<3.0.0,>=2.31.0->homeharvest) (3.3.2)\n",
      "Requirement already satisfied: idna<4,>=2.5 in c:\\users\\elizabeth\\documents\\si618\\si_618_wn_24_files\\.venv\\lib\\site-packages (from requests<3.0.0,>=2.31.0->homeharvest) (3.6)\n",
      "Requirement already satisfied: urllib3<3,>=1.21.1 in c:\\users\\elizabeth\\documents\\si618\\si_618_wn_24_files\\.venv\\lib\\site-packages (from requests<3.0.0,>=2.31.0->homeharvest) (2.1.0)\n",
      "Requirement already satisfied: certifi>=2017.4.17 in c:\\users\\elizabeth\\documents\\si618\\si_618_wn_24_files\\.venv\\lib\\site-packages (from requests<3.0.0,>=2.31.0->homeharvest) (2023.11.17)\n",
      "Requirement already satisfied: six>=1.5 in c:\\users\\elizabeth\\documents\\si618\\si_618_wn_24_files\\.venv\\lib\\site-packages (from python-dateutil>=2.8.2->pandas<3.0.0,>=2.1.1->homeharvest) (1.16.0)\n",
      "Using cached homeharvest-0.3.19-py3-none-any.whl (15 kB)\n",
      "Installing collected packages: homeharvest\n",
      "Successfully installed homeharvest-0.3.19\n"
     ]
    },
    {
     "name": "stderr",
     "output_type": "stream",
     "text": [
      "DEPRECATION: pytorch-lightning 1.7.7 has a non-standard dependency specifier torch>=1.9.*. pip 24.1 will enforce this behaviour change. A possible replacement is to upgrade to a newer version of pytorch-lightning or contact the author to suggest that they release a version with a conforming dependency specifiers. Discussion can be found at https://github.com/pypa/pip/issues/12063\n"
     ]
    }
   ],
   "source": [
    "# !pip install homeharvest"
   ]
  },
  {
   "cell_type": "code",
   "execution_count": 5,
   "metadata": {},
   "outputs": [
    {
     "name": "stdout",
     "output_type": "stream",
     "text": [
      "Number of properties: 5571\n",
      "                                        property_url   mls       mls_id  \\\n",
      "0  https://www.realtor.com/realestateandhomes-det...  PHPA  PAPH2347528   \n",
      "1  https://www.realtor.com/realestateandhomes-det...  PHPA  PAPH2347544   \n",
      "2  https://www.realtor.com/realestateandhomes-det...  PHPA  PAPH2342116   \n",
      "3  https://www.realtor.com/realestateandhomes-det...  PHPA  PAPH2347494   \n",
      "4  https://www.realtor.com/realestateandhomes-det...  PHPA  PAPH2347500   \n",
      "\n",
      "     status                                               text          style  \\\n",
      "0  FOR_RENT  Welcome to 2033 South Garnet Street. This 3 be...      TOWNHOMES   \n",
      "1  FOR_RENT  Presenting an exceptional rental opportunity a...  SINGLE_FAMILY   \n",
      "2  FOR_RENT  Available Early June: Welcome to 2320 Christia...      TOWNHOMES   \n",
      "3  FOR_RENT  320 WALNUT STREET! Incredible 1 bedroom reside...      APARTMENT   \n",
      "4  FOR_RENT                                               None      TOWNHOMES   \n",
      "\n",
      "               street      unit          city state  ... fips_code stories  \\\n",
      "0    2003 S Garnet St      None  Philadelphia    PA  ...     42101    None   \n",
      "1      225 S Alden St      None  Philadelphia    PA  ...     42101    None   \n",
      "2  2320  Christian St      None  Philadelphia    PA  ...     42101    None   \n",
      "3   312-22  Walnut St  Unit 305  Philadelphia    PA  ...     42101    None   \n",
      "4     1816 W Berks St    Unit 1  Philadelphia    PA  ...     42101    None   \n",
      "\n",
      "  hoa_fee parking_garage              agent  \\\n",
      "0    None           None      Janette Spirk   \n",
      "1       0           None       Dean Pileggi   \n",
      "2       0           None  Andreanna Kremser   \n",
      "3       0           None      Nancy Alperin   \n",
      "4       0           None   Derrius Kendrick   \n",
      "\n",
      "                                      broker    broker_phone  \\\n",
      "0                                    COMPASS  (267) 435-8015   \n",
      "1                        TCS Management, LLC  (215) 383-1439   \n",
      "2                             JG Real Estate  (215) 467-4100   \n",
      "3                          Maxwell Realty Co  (215) 546-6000   \n",
      "4  BHHS Fox & Roach Center City-Society Hill  (215) 627-6005   \n",
      "\n",
      "                                      nearby_schools  \\\n",
      "0  Philadelphia City School District, Preparatory...   \n",
      "1  Boys Latin Of Philadelphia Cs, Philadelphia Ci...   \n",
      "2  Freire Cs, Philadelphia City School District, ...   \n",
      "3  Philadelphia City School District, Mastery Cha...   \n",
      "4  Philadelphia City School District, Alliance Fo...   \n",
      "\n",
      "                                       primary_photo  \\\n",
      "0  http://ap.rdcpix.com/201dbe7fd364d637f61fc2d4b...   \n",
      "1  http://ap.rdcpix.com/5087b4f2fdabdd7300456e8b0...   \n",
      "2  http://ap.rdcpix.com/78a62412407d2f9cab712c4c4...   \n",
      "3  http://ap.rdcpix.com/16eeb8f991503e84428c6cf88...   \n",
      "4  http://ap.rdcpix.com/7732b0c34f68227b4e1422ec2...   \n",
      "\n",
      "                                          alt_photos  \n",
      "0  http://ap.rdcpix.com/201dbe7fd364d637f61fc2d4b...  \n",
      "1  http://ap.rdcpix.com/5087b4f2fdabdd7300456e8b0...  \n",
      "2  http://ap.rdcpix.com/78a62412407d2f9cab712c4c4...  \n",
      "3  http://ap.rdcpix.com/16eeb8f991503e84428c6cf88...  \n",
      "4  http://ap.rdcpix.com/7732b0c34f68227b4e1422ec2...  \n",
      "\n",
      "[5 rows x 37 columns]\n"
     ]
    }
   ],
   "source": [
    "# Source: https://github.com/Bunsly/HomeHarvest\n",
    "from homeharvest import scrape_property\n",
    "from datetime import datetime\n",
    "\n",
    "# Generate filename based on current timestamp\n",
    "current_timestamp = datetime.now().strftime(\"%Y%m%d_%H%M%S\")\n",
    "filename = f\"HomeHarvest_{current_timestamp}.csv\"\n",
    "\n",
    "properties = scrape_property(\n",
    "  location=\"Philadelphia, PA\",\n",
    "  listing_type=\"for_rent\",  # or (sold, for_sale, for_rent, pending)\n",
    "  past_days=365,  # sold in last 30 days - listed in last 30 days if (for_sale, for_rent)\n",
    "\n",
    "  # date_from=\"2023-05-01\", # alternative to past_days\n",
    "  # date_to=\"2023-05-28\",\n",
    "  # foreclosure=True\n",
    "\n",
    "  # mls_only=True,  # only fetch MLS listings\n",
    ")\n",
    "print(f\"Number of properties: {len(properties)}\")\n",
    "\n",
    "# Export to csv\n",
    "properties.to_csv(filename, index=False)\n",
    "print(properties.head())"
   ]
  }
 ],
 "metadata": {
  "kernelspec": {
   "display_name": "Python 3",
   "language": "python",
   "name": "python3"
  },
  "language_info": {
   "codemirror_mode": {
    "name": "ipython",
    "version": 3
   },
   "file_extension": ".py",
   "mimetype": "text/x-python",
   "name": "python",
   "nbconvert_exporter": "python",
   "pygments_lexer": "ipython3",
   "version": "3.12.1"
  }
 },
 "nbformat": 4,
 "nbformat_minor": 2
}
